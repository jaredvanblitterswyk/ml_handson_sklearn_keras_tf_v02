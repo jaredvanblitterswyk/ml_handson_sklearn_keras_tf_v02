{
 "cells": [
  {
   "cell_type": "markdown",
   "id": "freelance-crime",
   "metadata": {},
   "source": [
    "# Predicting Housing Prices in California\n",
    "\n",
    "This notebook presents a framework for an end-to-end pipeline to implement ML on a basic data set of housing data with the objective to predict housing prices in California [1]. The data is stored on my personal github, which was copied from: 'https://raw.githubusercontent.com/ageron/handson-ml2/master/'.\n",
    "\n",
    "<b>Add more description here as the project progresses.</b>\n",
    "\n",
    "---\n",
    "\n",
    "[1]: A. Geron, 'Hands-on Machine Learning with Scikit-Learn, Keras & TensorFolow, Ch. 2."
   ]
  },
  {
   "cell_type": "markdown",
   "id": "horizontal-cruise",
   "metadata": {},
   "source": [
    "### Setup\n",
    "\n",
    "\n",
    "First setup a few modulues, set some defaults for matplotlib figures and setup a random seed so that the code runs the same each time."
   ]
  },
  {
   "cell_type": "code",
   "execution_count": 1,
   "id": "alternative-expansion",
   "metadata": {},
   "outputs": [
    {
     "name": "stdout",
     "output_type": "stream",
     "text": [
      "/home/jvanblitterswyk/.config/matplotlib\n"
     ]
    }
   ],
   "source": [
    "import matplotlib as mpl\n",
    "import matplotlib.pyplot as plt\n",
    "import numpy as np\n",
    "import pandas as pd\n",
    "import os\n",
    "import tarfile\n",
    "import urllib\n",
    "\n",
    "# import scientific colourmap\n",
    "import bilbao\n",
    "\n",
    "# setup matplotlib default styles\n",
    "print(mpl.get_configdir())\n",
    "#plt.style.use('jvb_plt_style_1')\n",
    "\n",
    "# Fixing random state for reproducibility\n",
    "np.random.seed(42)"
   ]
  },
  {
   "cell_type": "markdown",
   "id": "cutting-limitation",
   "metadata": {},
   "source": [
    "### Get the data\n",
    "To start off, create a small function to automate fetching the data. This is useful for regularly fetching updates or when downloading the data on multiple machines is required."
   ]
  },
  {
   "cell_type": "code",
   "execution_count": 2,
   "id": "breathing-cabinet",
   "metadata": {},
   "outputs": [],
   "source": [
    "## TO DO: download data set and have it on personal github\n",
    "download_root = 'https://raw.githubusercontent.com/jaredvanblitterswyk/ml_handson_sklearn_keras_tf_v02/main/'\n",
    "data_path = os.path.join('datasets','02_cali_housing') # path where data stored locally\n",
    "data_url = download_root + 'datasets/02_cali_homes/housing.tgz' # full url to raw data on GitHub\n",
    "\n",
    "def fetch_data(data_url = data_url, data_path = data_path):\n",
    "    # make directory in current workspace\n",
    "    os.makedirs(data_path, exist_ok=True)\n",
    "    # define tar gz path to save locally\n",
    "    tgz_path = os.path.join(data_path, 'housing.tgz')\n",
    "    # download tar gz file\n",
    "    urllib.request.urlretrieve(data_url, tgz_path)\n",
    "    # open tar gz file and extract all as csv\n",
    "    with tarfile.open(tgz_path) as file:\n",
    "        file.extractall(path=data_path)"
   ]
  },
  {
   "cell_type": "code",
   "execution_count": 3,
   "id": "turkish-talent",
   "metadata": {},
   "outputs": [],
   "source": [
    "fetch_data()"
   ]
  },
  {
   "cell_type": "markdown",
   "id": "chemical-detector",
   "metadata": {},
   "source": [
    "### Load data\n",
    "\n",
    "Create a small function to load in data into a dataframe"
   ]
  },
  {
   "cell_type": "code",
   "execution_count": 4,
   "id": "yellow-diana",
   "metadata": {},
   "outputs": [],
   "source": [
    "def load_data(data_path = data_path):\n",
    "    csv_path = os.path.join(data_path, 'housing.csv')\n",
    "    return pd.read_csv(csv_path)"
   ]
  },
  {
   "cell_type": "code",
   "execution_count": 5,
   "id": "derived-ebony",
   "metadata": {},
   "outputs": [],
   "source": [
    "housing = load_data()"
   ]
  },
  {
   "cell_type": "markdown",
   "id": "sound-shanghai",
   "metadata": {},
   "source": [
    "### Take a quick look at the data\n",
    "\n",
    "Extract basic statistics and plot histogram of a few attributes in the data frame."
   ]
  },
  {
   "cell_type": "code",
   "execution_count": 6,
   "id": "outdoor-venue",
   "metadata": {},
   "outputs": [
    {
     "data": {
      "text/html": [
       "<div>\n",
       "<style scoped>\n",
       "    .dataframe tbody tr th:only-of-type {\n",
       "        vertical-align: middle;\n",
       "    }\n",
       "\n",
       "    .dataframe tbody tr th {\n",
       "        vertical-align: top;\n",
       "    }\n",
       "\n",
       "    .dataframe thead th {\n",
       "        text-align: right;\n",
       "    }\n",
       "</style>\n",
       "<table border=\"1\" class=\"dataframe\">\n",
       "  <thead>\n",
       "    <tr style=\"text-align: right;\">\n",
       "      <th></th>\n",
       "      <th>longitude</th>\n",
       "      <th>latitude</th>\n",
       "      <th>housing_median_age</th>\n",
       "      <th>total_rooms</th>\n",
       "      <th>total_bedrooms</th>\n",
       "      <th>population</th>\n",
       "      <th>households</th>\n",
       "      <th>median_income</th>\n",
       "      <th>median_house_value</th>\n",
       "      <th>ocean_proximity</th>\n",
       "    </tr>\n",
       "  </thead>\n",
       "  <tbody>\n",
       "    <tr>\n",
       "      <th>0</th>\n",
       "      <td>-122.23</td>\n",
       "      <td>37.88</td>\n",
       "      <td>41.0</td>\n",
       "      <td>880.0</td>\n",
       "      <td>129.0</td>\n",
       "      <td>322.0</td>\n",
       "      <td>126.0</td>\n",
       "      <td>8.3252</td>\n",
       "      <td>452600.0</td>\n",
       "      <td>NEAR BAY</td>\n",
       "    </tr>\n",
       "    <tr>\n",
       "      <th>1</th>\n",
       "      <td>-122.22</td>\n",
       "      <td>37.86</td>\n",
       "      <td>21.0</td>\n",
       "      <td>7099.0</td>\n",
       "      <td>1106.0</td>\n",
       "      <td>2401.0</td>\n",
       "      <td>1138.0</td>\n",
       "      <td>8.3014</td>\n",
       "      <td>358500.0</td>\n",
       "      <td>NEAR BAY</td>\n",
       "    </tr>\n",
       "    <tr>\n",
       "      <th>2</th>\n",
       "      <td>-122.24</td>\n",
       "      <td>37.85</td>\n",
       "      <td>52.0</td>\n",
       "      <td>1467.0</td>\n",
       "      <td>190.0</td>\n",
       "      <td>496.0</td>\n",
       "      <td>177.0</td>\n",
       "      <td>7.2574</td>\n",
       "      <td>352100.0</td>\n",
       "      <td>NEAR BAY</td>\n",
       "    </tr>\n",
       "    <tr>\n",
       "      <th>3</th>\n",
       "      <td>-122.25</td>\n",
       "      <td>37.85</td>\n",
       "      <td>52.0</td>\n",
       "      <td>1274.0</td>\n",
       "      <td>235.0</td>\n",
       "      <td>558.0</td>\n",
       "      <td>219.0</td>\n",
       "      <td>5.6431</td>\n",
       "      <td>341300.0</td>\n",
       "      <td>NEAR BAY</td>\n",
       "    </tr>\n",
       "    <tr>\n",
       "      <th>4</th>\n",
       "      <td>-122.25</td>\n",
       "      <td>37.85</td>\n",
       "      <td>52.0</td>\n",
       "      <td>1627.0</td>\n",
       "      <td>280.0</td>\n",
       "      <td>565.0</td>\n",
       "      <td>259.0</td>\n",
       "      <td>3.8462</td>\n",
       "      <td>342200.0</td>\n",
       "      <td>NEAR BAY</td>\n",
       "    </tr>\n",
       "  </tbody>\n",
       "</table>\n",
       "</div>"
      ],
      "text/plain": [
       "   longitude  latitude  housing_median_age  total_rooms  total_bedrooms  \\\n",
       "0    -122.23     37.88                41.0        880.0           129.0   \n",
       "1    -122.22     37.86                21.0       7099.0          1106.0   \n",
       "2    -122.24     37.85                52.0       1467.0           190.0   \n",
       "3    -122.25     37.85                52.0       1274.0           235.0   \n",
       "4    -122.25     37.85                52.0       1627.0           280.0   \n",
       "\n",
       "   population  households  median_income  median_house_value ocean_proximity  \n",
       "0       322.0       126.0         8.3252            452600.0        NEAR BAY  \n",
       "1      2401.0      1138.0         8.3014            358500.0        NEAR BAY  \n",
       "2       496.0       177.0         7.2574            352100.0        NEAR BAY  \n",
       "3       558.0       219.0         5.6431            341300.0        NEAR BAY  \n",
       "4       565.0       259.0         3.8462            342200.0        NEAR BAY  "
      ]
     },
     "execution_count": 6,
     "metadata": {},
     "output_type": "execute_result"
    }
   ],
   "source": [
    "# print top five rows of dataframe\n",
    "housing.head()"
   ]
  },
  {
   "cell_type": "code",
   "execution_count": 7,
   "id": "elder-technique",
   "metadata": {},
   "outputs": [
    {
     "name": "stdout",
     "output_type": "stream",
     "text": [
      "<class 'pandas.core.frame.DataFrame'>\n",
      "RangeIndex: 20640 entries, 0 to 20639\n",
      "Data columns (total 10 columns):\n",
      " #   Column              Non-Null Count  Dtype  \n",
      "---  ------              --------------  -----  \n",
      " 0   longitude           20640 non-null  float64\n",
      " 1   latitude            20640 non-null  float64\n",
      " 2   housing_median_age  20640 non-null  float64\n",
      " 3   total_rooms         20640 non-null  float64\n",
      " 4   total_bedrooms      20433 non-null  float64\n",
      " 5   population          20640 non-null  float64\n",
      " 6   households          20640 non-null  float64\n",
      " 7   median_income       20640 non-null  float64\n",
      " 8   median_house_value  20640 non-null  float64\n",
      " 9   ocean_proximity     20640 non-null  object \n",
      "dtypes: float64(9), object(1)\n",
      "memory usage: 1.6+ MB\n"
     ]
    }
   ],
   "source": [
    "# get a quick description of the data\n",
    "housing.info()"
   ]
  },
  {
   "cell_type": "markdown",
   "id": "existing-creature",
   "metadata": {},
   "source": [
    "From here we can see that only one attribute (total_bedrooms) contain missing values and all attributes are numeric except for 'ocean_proximity'. This attribute can be converted to numeric values for training an ML algorithm - to be addressed later. Lets take a look at what categories exist for the ocean_proximity attribute:"
   ]
  },
  {
   "cell_type": "code",
   "execution_count": 8,
   "id": "ancient-narrative",
   "metadata": {},
   "outputs": [
    {
     "data": {
      "text/plain": [
       "<1H OCEAN     9136\n",
       "INLAND        6551\n",
       "NEAR OCEAN    2658\n",
       "NEAR BAY      2290\n",
       "ISLAND           5\n",
       "Name: ocean_proximity, dtype: int64"
      ]
     },
     "execution_count": 8,
     "metadata": {},
     "output_type": "execute_result"
    }
   ],
   "source": [
    "housing['ocean_proximity'].value_counts()"
   ]
  },
  {
   "cell_type": "markdown",
   "id": "behind-escape",
   "metadata": {},
   "source": [
    "Let's also take a look at the numeric attributes."
   ]
  },
  {
   "cell_type": "code",
   "execution_count": 9,
   "id": "protective-remedy",
   "metadata": {},
   "outputs": [
    {
     "data": {
      "text/html": [
       "<div>\n",
       "<style scoped>\n",
       "    .dataframe tbody tr th:only-of-type {\n",
       "        vertical-align: middle;\n",
       "    }\n",
       "\n",
       "    .dataframe tbody tr th {\n",
       "        vertical-align: top;\n",
       "    }\n",
       "\n",
       "    .dataframe thead th {\n",
       "        text-align: right;\n",
       "    }\n",
       "</style>\n",
       "<table border=\"1\" class=\"dataframe\">\n",
       "  <thead>\n",
       "    <tr style=\"text-align: right;\">\n",
       "      <th></th>\n",
       "      <th>longitude</th>\n",
       "      <th>latitude</th>\n",
       "      <th>housing_median_age</th>\n",
       "      <th>total_rooms</th>\n",
       "      <th>total_bedrooms</th>\n",
       "      <th>population</th>\n",
       "      <th>households</th>\n",
       "      <th>median_income</th>\n",
       "      <th>median_house_value</th>\n",
       "    </tr>\n",
       "  </thead>\n",
       "  <tbody>\n",
       "    <tr>\n",
       "      <th>count</th>\n",
       "      <td>20640.000000</td>\n",
       "      <td>20640.000000</td>\n",
       "      <td>20640.000000</td>\n",
       "      <td>20640.000000</td>\n",
       "      <td>20433.000000</td>\n",
       "      <td>20640.000000</td>\n",
       "      <td>20640.000000</td>\n",
       "      <td>20640.000000</td>\n",
       "      <td>20640.000000</td>\n",
       "    </tr>\n",
       "    <tr>\n",
       "      <th>mean</th>\n",
       "      <td>-119.569704</td>\n",
       "      <td>35.631861</td>\n",
       "      <td>28.639486</td>\n",
       "      <td>2635.763081</td>\n",
       "      <td>537.870553</td>\n",
       "      <td>1425.476744</td>\n",
       "      <td>499.539680</td>\n",
       "      <td>3.870671</td>\n",
       "      <td>206855.816909</td>\n",
       "    </tr>\n",
       "    <tr>\n",
       "      <th>std</th>\n",
       "      <td>2.003532</td>\n",
       "      <td>2.135952</td>\n",
       "      <td>12.585558</td>\n",
       "      <td>2181.615252</td>\n",
       "      <td>421.385070</td>\n",
       "      <td>1132.462122</td>\n",
       "      <td>382.329753</td>\n",
       "      <td>1.899822</td>\n",
       "      <td>115395.615874</td>\n",
       "    </tr>\n",
       "    <tr>\n",
       "      <th>min</th>\n",
       "      <td>-124.350000</td>\n",
       "      <td>32.540000</td>\n",
       "      <td>1.000000</td>\n",
       "      <td>2.000000</td>\n",
       "      <td>1.000000</td>\n",
       "      <td>3.000000</td>\n",
       "      <td>1.000000</td>\n",
       "      <td>0.499900</td>\n",
       "      <td>14999.000000</td>\n",
       "    </tr>\n",
       "    <tr>\n",
       "      <th>25%</th>\n",
       "      <td>-121.800000</td>\n",
       "      <td>33.930000</td>\n",
       "      <td>18.000000</td>\n",
       "      <td>1447.750000</td>\n",
       "      <td>296.000000</td>\n",
       "      <td>787.000000</td>\n",
       "      <td>280.000000</td>\n",
       "      <td>2.563400</td>\n",
       "      <td>119600.000000</td>\n",
       "    </tr>\n",
       "    <tr>\n",
       "      <th>50%</th>\n",
       "      <td>-118.490000</td>\n",
       "      <td>34.260000</td>\n",
       "      <td>29.000000</td>\n",
       "      <td>2127.000000</td>\n",
       "      <td>435.000000</td>\n",
       "      <td>1166.000000</td>\n",
       "      <td>409.000000</td>\n",
       "      <td>3.534800</td>\n",
       "      <td>179700.000000</td>\n",
       "    </tr>\n",
       "    <tr>\n",
       "      <th>75%</th>\n",
       "      <td>-118.010000</td>\n",
       "      <td>37.710000</td>\n",
       "      <td>37.000000</td>\n",
       "      <td>3148.000000</td>\n",
       "      <td>647.000000</td>\n",
       "      <td>1725.000000</td>\n",
       "      <td>605.000000</td>\n",
       "      <td>4.743250</td>\n",
       "      <td>264725.000000</td>\n",
       "    </tr>\n",
       "    <tr>\n",
       "      <th>max</th>\n",
       "      <td>-114.310000</td>\n",
       "      <td>41.950000</td>\n",
       "      <td>52.000000</td>\n",
       "      <td>39320.000000</td>\n",
       "      <td>6445.000000</td>\n",
       "      <td>35682.000000</td>\n",
       "      <td>6082.000000</td>\n",
       "      <td>15.000100</td>\n",
       "      <td>500001.000000</td>\n",
       "    </tr>\n",
       "  </tbody>\n",
       "</table>\n",
       "</div>"
      ],
      "text/plain": [
       "          longitude      latitude  housing_median_age   total_rooms  \\\n",
       "count  20640.000000  20640.000000        20640.000000  20640.000000   \n",
       "mean    -119.569704     35.631861           28.639486   2635.763081   \n",
       "std        2.003532      2.135952           12.585558   2181.615252   \n",
       "min     -124.350000     32.540000            1.000000      2.000000   \n",
       "25%     -121.800000     33.930000           18.000000   1447.750000   \n",
       "50%     -118.490000     34.260000           29.000000   2127.000000   \n",
       "75%     -118.010000     37.710000           37.000000   3148.000000   \n",
       "max     -114.310000     41.950000           52.000000  39320.000000   \n",
       "\n",
       "       total_bedrooms    population    households  median_income  \\\n",
       "count    20433.000000  20640.000000  20640.000000   20640.000000   \n",
       "mean       537.870553   1425.476744    499.539680       3.870671   \n",
       "std        421.385070   1132.462122    382.329753       1.899822   \n",
       "min          1.000000      3.000000      1.000000       0.499900   \n",
       "25%        296.000000    787.000000    280.000000       2.563400   \n",
       "50%        435.000000   1166.000000    409.000000       3.534800   \n",
       "75%        647.000000   1725.000000    605.000000       4.743250   \n",
       "max       6445.000000  35682.000000   6082.000000      15.000100   \n",
       "\n",
       "       median_house_value  \n",
       "count        20640.000000  \n",
       "mean        206855.816909  \n",
       "std         115395.615874  \n",
       "min          14999.000000  \n",
       "25%         119600.000000  \n",
       "50%         179700.000000  \n",
       "75%         264725.000000  \n",
       "max         500001.000000  "
      ]
     },
     "execution_count": 9,
     "metadata": {},
     "output_type": "execute_result"
    }
   ],
   "source": [
    "housing.describe()"
   ]
  },
  {
   "cell_type": "code",
   "execution_count": 10,
   "id": "round-seating",
   "metadata": {},
   "outputs": [
    {
     "data": {
      "image/png": "[encoded data removed]",
      "text/plain": [
       "<Figure size 864x432 with 9 Axes>"
      ]
     },
     "metadata": {
      "needs_background": "light"
     },
     "output_type": "display_data"
    }
   ],
   "source": [
    "housing.hist(bins=50, figsize=(12,6))\n",
    "plt.show()"
   ]
  },
  {
   "cell_type": "markdown",
   "id": "cardiac-rubber",
   "metadata": {},
   "source": [
    "From the above figures we can see several things:\n",
    "1. Many of the attributes are tail heavy - this could lead to issues with training and normalization may be needed;\n",
    "2. Median income appears to be capped at 15 (in ten thousands);\n",
    "3. Median house value is also capped at 500,000. Since this is the value we want to predict, this could be quite consequential (discussed more below);\n",
    "4. Housing median age is capped at 50;\n",
    "\n",
    "The cap on median house value may prevent some ML algorithms from learning trends above this value and can be detrimental to performance. If predictive capability above this value is required, there are two ways to resolve this:\n",
    "\n",
    "1. collect proper labels for the values that were capped, or;\n",
    "2. remove capped districts from the training and test sets.\n",
    "\n"
   ]
  },
  {
   "cell_type": "markdown",
   "id": "unusual-quantum",
   "metadata": {},
   "source": [
    "### Create a test set\n",
    "\n",
    "How we go about separating a test set requires some careful consideration. Each time we run the training algorithm, we want to use the same set of data. Otherwise, over time the ML algorithm will eventually be trained on all available data creating bias/leakage.\n",
    "\n",
    "A common solution is to use each instance's unique identifier (assuming there is one) to determine if an instance should be included in the training or test set. For example, you could compute a has of each instance's identifier and define a threshold on value to assign to training/test sets. Unfortunately, here we do not have a unique identifier so we must consider other options. One option is to use the index as an identifier but one must ensure that new data is always appended to the end of the data set. If this is not possible it is recommended to use the most stable identifier in the dataset (for example, here we could use longitude and latitude as these are guaranteed to be stable) but one must be careful that multiple points do not have the same identifier to avoid sampling bias.\n",
    "\n",
    "Here we will use the scikit-learn built-in function train_test_split() to create a test set."
   ]
  },
  {
   "cell_type": "code",
   "execution_count": 11,
   "id": "spread-reggae",
   "metadata": {},
   "outputs": [],
   "source": [
    "from sklearn.model_selection import train_test_split\n",
    "\n",
    "train_set, test_set = train_test_split(housing, test_size = 0.2, random_state = 42, shuffle = True)"
   ]
  },
  {
   "cell_type": "markdown",
   "id": "painted-spank",
   "metadata": {},
   "source": [
    "Note that we set shuffle = True (default), which performs random sampling of the data. One must be aware that random sampling may not always be the most appropriate approach and can create skewed training and test sets. For example, in this data set, we may want to ensure that each income bracket is represented appropriately in the training and test sets. For this we need to use stratified sampling.\n",
    "\n",
    "First, we will create 'cuts' in the data representing different categories for median income."
   ]
  },
  {
   "cell_type": "code",
   "execution_count": 12,
   "id": "artistic-nightlife",
   "metadata": {},
   "outputs": [
    {
     "data": {
      "text/plain": [
       "3    0.350581\n",
       "2    0.318847\n",
       "4    0.176308\n",
       "5    0.114438\n",
       "1    0.039826\n",
       "Name: income_cat, dtype: float64"
      ]
     },
     "execution_count": 12,
     "metadata": {},
     "output_type": "execute_result"
    },
    {
     "data": {
      "image/png": "[encoded data removed]",
      "text/plain": [
       "<Figure size 432x288 with 1 Axes>"
      ]
     },
     "metadata": {
      "needs_background": "light"
     },
     "output_type": "display_data"
    }
   ],
   "source": [
    "housing['income_cat'] = pd.cut(housing['median_income'], \n",
    "                               bins = [0., 1.5, 3., 4.5, 6., np.inf],\n",
    "                              labels = [1, 2, 3, 4, 5])\n",
    "\n",
    "housing['income_cat'].hist()\n",
    "\n",
    "# display proportions of each income category\n",
    "housing['income_cat'].value_counts()/len(housing)"
   ]
  },
  {
   "cell_type": "markdown",
   "id": "based-cancellation",
   "metadata": {},
   "source": [
    "Now we can do stratified random sampling on the data based on income category."
   ]
  },
  {
   "cell_type": "code",
   "execution_count": 13,
   "id": "hungarian-plaza",
   "metadata": {},
   "outputs": [
    {
     "data": {
      "text/plain": [
       "3    0.350533\n",
       "2    0.318798\n",
       "4    0.176357\n",
       "5    0.114583\n",
       "1    0.039729\n",
       "Name: income_cat, dtype: float64"
      ]
     },
     "execution_count": 13,
     "metadata": {},
     "output_type": "execute_result"
    }
   ],
   "source": [
    "from sklearn.model_selection import StratifiedShuffleSplit\n",
    "\n",
    "# provide indices to split the data\n",
    "split = StratifiedShuffleSplit(n_splits = 1, test_size= 0.2, random_state = 42)\n",
    "\n",
    "# now loop through and assign to test and train sets\n",
    "\n",
    "for train_index, test_index in split.split(housing, housing['income_cat']):\n",
    "    strat_train_set = housing.loc[train_index]\n",
    "    strat_test_set = housing.loc[test_index]\n",
    "    \n",
    "# check that it worked by comparing proportions of income categories in test set\n",
    "\n",
    "strat_test_set['income_cat'].value_counts()/len(strat_test_set)"
   ]
  },
  {
   "cell_type": "markdown",
   "id": "sufficient-graduate",
   "metadata": {},
   "source": [
    "We can see that the stratified sampling of the full housing data set by income category produces very similar proportions of each category in the test set as in the 'population' (full set).\n",
    "\n",
    "Finally, we will remove the income category so this is not used in training the data."
   ]
  },
  {
   "cell_type": "code",
   "execution_count": 14,
   "id": "emotional-calvin",
   "metadata": {},
   "outputs": [],
   "source": [
    "for set_ in (strat_train_set, strat_test_set):\n",
    "    set_.drop('income_cat', axis = 1, inplace = True)"
   ]
  },
  {
   "cell_type": "code",
   "execution_count": 16,
   "id": "decent-invention",
   "metadata": {},
   "outputs": [
    {
     "data": {
      "text/plain": [
       "Index(['longitude', 'latitude', 'housing_median_age', 'total_rooms',\n",
       "       'total_bedrooms', 'population', 'households', 'median_income',\n",
       "       'median_house_value', 'ocean_proximity'],\n",
       "      dtype='object')"
      ]
     },
     "execution_count": 16,
     "metadata": {},
     "output_type": "execute_result"
    }
   ],
   "source": [
    "strat_train_set.columns"
   ]
  },
  {
   "cell_type": "markdown",
   "id": "visible-judge",
   "metadata": {},
   "source": [
    "### Exploring the data"
   ]
  },
  {
   "cell_type": "code",
   "execution_count": null,
   "id": "anticipated-mayor",
   "metadata": {},
   "outputs": [],
   "source": []
  }
 ],
 "metadata": {
  "kernelspec": {
   "display_name": "Python 3",
   "language": "python",
   "name": "python3"
  },
  "language_info": {
   "codemirror_mode": {
    "name": "ipython",
    "version": 3
   },
   "file_extension": ".py",
   "mimetype": "text/x-python",
   "name": "python",
   "nbconvert_exporter": "python",
   "pygments_lexer": "ipython3",
   "version": "3.8.5"
  }
 },
 "nbformat": 4,
 "nbformat_minor": 5
}
